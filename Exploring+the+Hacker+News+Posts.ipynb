{
 "cells": [
  {
   "cell_type": "markdown",
   "metadata": {},
   "source": [
    "# Hacker News Post - Post information comparison"
   ]
  },
  {
   "cell_type": "markdown",
   "metadata": {},
   "source": [
    "The goal of this project is to perform an analysis of certain types of post on the Hacker News website. We will focus specifically on the 'ASK HN' and the 'SHOW HN' posts.\n",
    "\n",
    "    1) Users submit Ask HN posts to ask the Hacker News \n",
    "    community a specific question\n",
    "    2) Users submit Show HN posts to show the Hacker News community\n",
    "    a project, product, or just generally something interesting.\n",
    "\n",
    "We will compare these types of posts to see which type gets the most comments and whether the time variable plays a part in the amount of comments."
   ]
  },
  {
   "cell_type": "code",
   "execution_count": 2,
   "metadata": {
    "collapsed": false
   },
   "outputs": [],
   "source": [
    "# importing the library and opening the csv file. Assign it to variable hn\n",
    "from csv import reader\n",
    "\n",
    "opened_file = open('hacker_news.csv')\n",
    "reader = reader(opened_file)\n",
    "hn = list(reader)"
   ]
  },
  {
   "cell_type": "code",
   "execution_count": 3,
   "metadata": {
    "collapsed": false
   },
   "outputs": [
    {
     "data": {
      "text/plain": [
       "[['id', 'title', 'url', 'num_points', 'num_comments', 'author', 'created_at'],\n",
       " ['12224879',\n",
       "  'Interactive Dynamic Video',\n",
       "  'http://www.interactivedynamicvideo.com/',\n",
       "  '386',\n",
       "  '52',\n",
       "  'ne0phyte',\n",
       "  '8/4/2016 11:52'],\n",
       " ['10975351',\n",
       "  'How to Use Open Source and Shut the Fuck Up at the Same Time',\n",
       "  'http://hueniverse.com/2016/01/26/how-to-use-open-source-and-shut-the-fuck-up-at-the-same-time/',\n",
       "  '39',\n",
       "  '10',\n",
       "  'josep2',\n",
       "  '1/26/2016 19:30'],\n",
       " ['11964716',\n",
       "  \"Florida DJs May Face Felony for April Fools' Water Joke\",\n",
       "  'http://www.thewire.com/entertainment/2013/04/florida-djs-april-fools-water-joke/63798/',\n",
       "  '2',\n",
       "  '1',\n",
       "  'vezycash',\n",
       "  '6/23/2016 22:20'],\n",
       " ['11919867',\n",
       "  'Technology ventures: From Idea to Enterprise',\n",
       "  'https://www.amazon.com/Technology-Ventures-Enterprise-Thomas-Byers/dp/0073523429',\n",
       "  '3',\n",
       "  '1',\n",
       "  'hswarna',\n",
       "  '6/17/2016 0:01']]"
      ]
     },
     "execution_count": 3,
     "metadata": {},
     "output_type": "execute_result"
    }
   ],
   "source": [
    "# checking if the file was opened and read correctly\n",
    "hn[0:5]"
   ]
  },
  {
   "cell_type": "code",
   "execution_count": 4,
   "metadata": {
    "collapsed": true
   },
   "outputs": [],
   "source": [
    "# assigning the first row to header variable to seperate it from future analysis\n",
    "hn_header = hn[0]\n",
    "hn = hn[1:]"
   ]
  },
  {
   "cell_type": "code",
   "execution_count": 5,
   "metadata": {
    "collapsed": false
   },
   "outputs": [
    {
     "data": {
      "text/plain": [
       "['id', 'title', 'url', 'num_points', 'num_comments', 'author', 'created_at']"
      ]
     },
     "execution_count": 5,
     "metadata": {},
     "output_type": "execute_result"
    }
   ],
   "source": [
    "hn_header"
   ]
  },
  {
   "cell_type": "code",
   "execution_count": 6,
   "metadata": {
    "collapsed": false
   },
   "outputs": [
    {
     "name": "stdout",
     "output_type": "stream",
     "text": [
      "Number of ask posts:  1744\n",
      "Number of show posts:  1162\n",
      "Number of other posts:  17194\n"
     ]
    }
   ],
   "source": [
    "# We now look to identify the ASK HN and SHOW HN posts\n",
    "# We'll use the str.startswith() function\n",
    "ask_posts = []\n",
    "show_posts = []\n",
    "other_posts = []\n",
    "\n",
    "# loop through all posts in the hn dataset\n",
    "for i in hn:\n",
    "    post_title = i[1].lower() # we add the lower() function to account for different cases\n",
    "    if post_title.startswith('ask hn') == True:\n",
    "        ask_posts.append(i)\n",
    "    elif post_title.startswith('show hn') == True:\n",
    "        show_posts.append(i)\n",
    "    else:\n",
    "        other_posts.append(i)\n",
    "        \n",
    "print('Number of ask posts: ', len(ask_posts))\n",
    "print('Number of show posts: ', len(show_posts))\n",
    "print('Number of other posts: ',len(other_posts))"
   ]
  },
  {
   "cell_type": "code",
   "execution_count": 7,
   "metadata": {
    "collapsed": false
   },
   "outputs": [
    {
     "data": {
      "text/plain": [
       "[['12296411',\n",
       "  'Ask HN: How to improve my personal website?',\n",
       "  '',\n",
       "  '2',\n",
       "  '6',\n",
       "  'ahmedbaracat',\n",
       "  '8/16/2016 9:55'],\n",
       " ['10610020',\n",
       "  'Ask HN: Am I the only one outraged by Twitter shutting down share counts?',\n",
       "  '',\n",
       "  '28',\n",
       "  '29',\n",
       "  'tkfx',\n",
       "  '11/22/2015 13:43'],\n",
       " ['11610310',\n",
       "  'Ask HN: Aby recent changes to CSS that broke mobile?',\n",
       "  '',\n",
       "  '1',\n",
       "  '1',\n",
       "  'polskibus',\n",
       "  '5/2/2016 10:14']]"
      ]
     },
     "execution_count": 7,
     "metadata": {},
     "output_type": "execute_result"
    }
   ],
   "source": [
    "ask_posts[0:3] # just to check whether the code works"
   ]
  },
  {
   "cell_type": "code",
   "execution_count": 8,
   "metadata": {
    "collapsed": false
   },
   "outputs": [
    {
     "name": "stdout",
     "output_type": "stream",
     "text": [
      "<class 'str'>\n"
     ]
    }
   ],
   "source": [
    "print(type(ask_posts[0][4]))"
   ]
  },
  {
   "cell_type": "code",
   "execution_count": 9,
   "metadata": {
    "collapsed": false
   },
   "outputs": [
    {
     "name": "stdout",
     "output_type": "stream",
     "text": [
      "The total number of ask comments is:  24483\n",
      "The average number of comments per 'ask hn' post :  14.038417431192661\n"
     ]
    }
   ],
   "source": [
    "#Counting the amount of comments on the 'ask hn' posts\n",
    "total_ask_comments = 0\n",
    "\n",
    "for i in ask_posts:\n",
    "    comments = int(i[4]) #The number of comments is in string format so convert to int\n",
    "    total_ask_comments += comments\n",
    "\n",
    "avg_comments = total_ask_comments / len(ask_posts)   \n",
    "print('The total number of ask comments is: ', total_ask_comments)\n",
    "print('''The average number of comments per 'ask hn' post : ''',avg_comments) \n",
    "    "
   ]
  },
  {
   "cell_type": "code",
   "execution_count": 10,
   "metadata": {
    "collapsed": false
   },
   "outputs": [
    {
     "name": "stdout",
     "output_type": "stream",
     "text": [
      "The total number of show comments is:  11988\n",
      "The average number of comments per 'show hn' post :  6.873853211009174\n"
     ]
    }
   ],
   "source": [
    "#Counting the amount of comments on the 'show hn' posts\n",
    "total_show_comments = 0\n",
    "\n",
    "for i in show_posts:\n",
    "    comments = int(i[4]) #The number of comments is in string format so convert to int\n",
    "    total_show_comments += comments\n",
    "\n",
    "avg_comments_show = total_show_comments / len(ask_posts)   \n",
    "print('The total number of show comments is: ', total_show_comments)\n",
    "print('''The average number of comments per 'show hn' post : ''',avg_comments_show) "
   ]
  },
  {
   "cell_type": "code",
   "execution_count": 11,
   "metadata": {
    "collapsed": false
   },
   "outputs": [
    {
     "name": "stdout",
     "output_type": "stream",
     "text": [
      "total posts compared:  1.5008605851979346\n",
      "total comments compared:  2.0422922922922924\n"
     ]
    }
   ],
   "source": [
    "print('total posts compared: ',1744 / 1162 )\n",
    "print('total comments compared: ', 24483 / 11988)"
   ]
  },
  {
   "cell_type": "markdown",
   "metadata": {},
   "source": [
    "As made visible above, the the 'ask hn' posts outnumber the the 'show hn' posts by 1.5 to 1. The amount of comments, however, are twice as many for the 'ask hn' posts.\n",
    "The average amount of 'ask hn' comments per posts is more than twice the amount than those for the 'show hn' posts. This means that the 'ask hn' posts get twice as much attention. "
   ]
  },
  {
   "cell_type": "markdown",
   "metadata": {},
   "source": [
    "### 'Ask hn' post analysis\n",
    "\n",
    "We identified the 'ask hn' posts to be the most popular so we will focus on these first to analyse the if there is a time where more comments are being posted"
   ]
  },
  {
   "cell_type": "code",
   "execution_count": 12,
   "metadata": {
    "collapsed": false
   },
   "outputs": [
    {
     "name": "stdout",
     "output_type": "stream",
     "text": [
      "[('8/16/2016 9:55', 6), ('11/22/2015 13:43', 29), ('5/2/2016 10:14', 1)]\n"
     ]
    }
   ],
   "source": [
    "from datetime import datetime as dt\n",
    "\n",
    "result_list = [] # create a list of lists to gather the post time and amount of comments\n",
    "for i in ask_posts:\n",
    "    list_a = i[-1]\n",
    "    list_b = int(i[4])\n",
    "    list_grand = list_a, list_b\n",
    "    result_list.append(list_grand)\n",
    "    \n",
    "print(result_list[0:3])\n",
    "    "
   ]
  },
  {
   "cell_type": "code",
   "execution_count": 44,
   "metadata": {
    "collapsed": false
   },
   "outputs": [
    {
     "name": "stdout",
     "output_type": "stream",
     "text": [
      "Counts by the hour:  {'19': 110, '09': 45, '14': 107, '08': 48, '13': 85, '02': 58, '06': 44, '22': 71, '23': 68, '21': 109, '04': 47, '03': 54, '10': 59, '12': 73, '18': 109, '11': 58, '15': 116, '16': 108, '00': 55, '20': 80, '17': 100, '05': 46, '07': 34, '01': 60}\n",
      "Comments by the hour:  {'19': 1188, '09': 251, '14': 1416, '08': 492, '13': 1253, '02': 1381, '06': 397, '22': 479, '23': 543, '21': 1745, '04': 337, '03': 421, '10': 793, '12': 687, '18': 1439, '11': 641, '15': 4477, '16': 1814, '00': 447, '20': 1722, '17': 1146, '05': 464, '07': 267, '01': 683}\n"
     ]
    }
   ],
   "source": [
    "counts_by_hour = {}\n",
    "comments_by_hour = {}\n",
    "\n",
    "for i in result_list:\n",
    "    date = i[0]\n",
    "    comment = int(i[1])\n",
    "    hour = dt.strptime(date, '%m/%d/%Y %H:%M').strftime('%H')\n",
    "    if hour not in counts_by_hour:\n",
    "        counts_by_hour[hour] = 1\n",
    "        comments_by_hour[hour] = comment\n",
    "    else:\n",
    "        counts_by_hour[hour] += 1\n",
    "        comments_by_hour[hour] += comment\n",
    "        \n",
    "print('Counts by the hour: ', counts_by_hour)\n",
    "print('Comments by the hour: ', comments_by_hour)\n",
    "   "
   ]
  },
  {
   "cell_type": "code",
   "execution_count": 20,
   "metadata": {
    "collapsed": false
   },
   "outputs": [
    {
     "name": "stdout",
     "output_type": "stream",
     "text": [
      "max count by hour: 15\n",
      "Max comments by the hour:  15\n"
     ]
    }
   ],
   "source": [
    "# Using the max() function, extract the hour where we have the most comments and 'ask hn' posts\n",
    "print('max count by hour:', max(counts_by_hour, key=counts_by_hour.get))\n",
    "print('Max comments by the hour: ', max(comments_by_hour, key=comments_by_hour.get))"
   ]
  },
  {
   "cell_type": "markdown",
   "metadata": {},
   "source": [
    "Above code shows us that the best time to post an 'ask hn' post is at 15h:00 because thats when most people appear to be online. Ofcourse, we should also take into account that if lots of people are posting, there is a chance our post will be lost in the masses."
   ]
  },
  {
   "cell_type": "code",
   "execution_count": 36,
   "metadata": {
    "collapsed": false
   },
   "outputs": [
    {
     "name": "stdout",
     "output_type": "stream",
     "text": [
      "\n",
      "\n",
      "The average amount of comments per post, per hour: [['19', 10.8], ['09', 5.5777777777777775], ['14', 13.233644859813085], ['08', 10.25], ['13', 14.741176470588234], ['02', 23.810344827586206], ['06', 9.022727272727273], ['22', 6.746478873239437], ['23', 7.985294117647059], ['21', 16.009174311926607], ['04', 7.170212765957447], ['03', 7.796296296296297], ['10', 13.440677966101696], ['12', 9.41095890410959], ['18', 13.20183486238532], ['11', 11.051724137931034], ['15', 38.5948275862069], ['16', 16.796296296296298], ['00', 8.127272727272727], ['20', 21.525], ['17', 11.46], ['05', 10.08695652173913], ['07', 7.852941176470588], ['01', 11.383333333333333]]\n"
     ]
    }
   ],
   "source": [
    "# lets look at the avg values\n",
    "avg_count = []\n",
    "\n",
    "for i in counts_by_hour:\n",
    "    avg_count.append([i, counts_by_hour[i]])\n",
    "    \n",
    "avg_by_hour = []\n",
    "\n",
    "for i in comments_by_hour:\n",
    "    avg_by_hour.append([i, comments_by_hour[i]])\n",
    "    \n",
    "for i in avg_by_hour:\n",
    "    for j in avg_count:\n",
    "        if j[0] == i[0]:\n",
    "            avg_com = i[1] / j[1]\n",
    "            i[1] = avg_com\n",
    "print('\\n')\n",
    "print('The average amount of comments per post, per hour:' ,avg_by_hour)\n",
    "    "
   ]
  },
  {
   "cell_type": "code",
   "execution_count": 43,
   "metadata": {
    "collapsed": false
   },
   "outputs": [
    {
     "name": "stdout",
     "output_type": "stream",
     "text": [
      "The first five swapped elements :  [[10.8, '19'], [5.5777777777777775, '09'], [13.233644859813085, '14'], [10.25, '08'], [14.741176470588234, '13']]\n",
      "\n",
      "\n",
      "Top 5 Hours for Ask Posts Comments:  [[38.5948275862069, '15'], [23.810344827586206, '02'], [21.525, '20'], [16.796296296296298, '16'], [16.009174311926607, '21']]\n"
     ]
    }
   ],
   "source": [
    "# the code above gives us the result but not in a clear fashion, so we will now make it more readable by sorting\n",
    "swap_avg_by_hour = []\n",
    "for i in avg_by_hour:\n",
    "    swap_avg_by_hour.append([i[0],i[1]])\n",
    "    \n",
    "print('The first five swapped elements : ',swap_avg_by_hour[0:5] )\n",
    "print('\\n')\n",
    "sorted_swap = sorted(swap_avg_by_hour,reverse = True)\n",
    "print('Top 5 Hours for Ask Posts Comments: ', sorted_swap[0:5])\n"
   ]
  },
  {
   "cell_type": "markdown",
   "metadata": {},
   "source": [
    "We now have the top 5 hours to post on, based upon the average amount of comments a post receives during that hour. \n",
    "Let us try to clean it up a bit so that we can present it clearly."
   ]
  },
  {
   "cell_type": "code",
   "execution_count": 57,
   "metadata": {
    "collapsed": false
   },
   "outputs": [
    {
     "name": "stdout",
     "output_type": "stream",
     "text": [
      "15:00: 38.59 average comments per post\n",
      "02:00: 23.81 average comments per post\n",
      "20:00: 21.52 average comments per post\n",
      "16:00: 16.80 average comments per post\n",
      "21:00: 16.01 average comments per post\n"
     ]
    }
   ],
   "source": [
    "\n",
    "\n",
    "for i in sorted_swap[0:5]:\n",
    "    str = '{}: {:.2f} average comments per post'\n",
    "    print(str.format(i[1],i[0]))"
   ]
  },
  {
   "cell_type": "markdown",
   "metadata": {},
   "source": [
    "We have a finished list of best hours to post on. Some next questions we can look to answer: \n",
    "    1. Determine if show or ask posts receive more points on average\n",
    "    2. Determine if posts created at a certain time are more likely to receive more points.\n",
    "    3. Compare your results to the average number of comments and points other posts receive.\n",
    "    (4. format the project to make it cleaner)\n",
    "    \n"
   ]
  },
  {
   "cell_type": "code",
   "execution_count": null,
   "metadata": {
    "collapsed": true
   },
   "outputs": [],
   "source": []
  }
 ],
 "metadata": {
  "kernelspec": {
   "display_name": "Python 3",
   "language": "python",
   "name": "python3"
  },
  "language_info": {
   "codemirror_mode": {
    "name": "ipython",
    "version": 3
   },
   "file_extension": ".py",
   "mimetype": "text/x-python",
   "name": "python",
   "nbconvert_exporter": "python",
   "pygments_lexer": "ipython3",
   "version": "3.4.3"
  }
 },
 "nbformat": 4,
 "nbformat_minor": 2
}
